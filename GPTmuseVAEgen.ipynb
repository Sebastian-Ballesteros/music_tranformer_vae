{
 "cells": [
  {
   "cell_type": "code",
   "execution_count": 11,
   "metadata": {},
   "outputs": [],
   "source": [
    "from GPTmuseVAE import GPTmuseVAE\n",
    "\n",
    "import os\n",
    "import torch\n",
    "from GPTmuseVAE import GPTmuseVAE\n",
    "from miditok.pytorch_data import DatasetTok\n",
    "from miditok import REMI\n",
    "from torchtoolkit.data import create_subsets\n",
    "from pathlib import Path\n",
    "from utils import *\n",
    "import pygame\n",
    "from pygame import mixer"
   ]
  },
  {
   "cell_type": "code",
   "execution_count": 12,
   "metadata": {},
   "outputs": [],
   "source": [
    "# Model Hyperparameters\n",
    "n_embd = 64\n",
    "n_head = 8\n",
    "n_layer = 4\n",
    "z_dim = 16\n",
    "block_size = 254 # what is the maximum context length for predictions?\n",
    "dropout = 0.2\n",
    "########################\n",
    "\n",
    "# Hyperparameters\n",
    "device = 'cuda' if torch.cuda.is_available() else 'cpu'\n",
    "# ------------"
   ]
  },
  {
   "cell_type": "code",
   "execution_count": 13,
   "metadata": {},
   "outputs": [
    {
     "name": "stderr",
     "output_type": "stream",
     "text": [
      "Loading data: midi_dataset_tokens_no_bpe/midi_metal/Slayer:   0%|          | 0/511 [00:00<?, ?it/s]"
     ]
    },
    {
     "name": "stderr",
     "output_type": "stream",
     "text": [
      "Loading data: midi_dataset_tokens_no_bpe/midi_metal/Slayer: 100%|██████████| 511/511 [00:01<00:00, 447.60it/s]\n"
     ]
    }
   ],
   "source": [
    "tokenizer = REMI(params= Path('midi_dataset_tokenizer_bpe.conf'))\n",
    "vocab_size = len(tokenizer)\n",
    "\n",
    "tokens_paths = list(Path('midi_dataset_tokens_no_bpe').glob(\"**/*.json\"))\n",
    "\n",
    "dataset = DatasetTok(\n",
    "    tokens_paths, \n",
    "    max_seq_len=block_size, # to make target and prediction match the song length of block size\n",
    "    min_seq_len=block_size, \n",
    "    one_token_stream= False,\n",
    "    func_to_get_labels = get_artist_label\n",
    ")"
   ]
  },
  {
   "cell_type": "code",
   "execution_count": 14,
   "metadata": {},
   "outputs": [
    {
     "name": "stdout",
     "output_type": "stream",
     "text": [
      "0.481936 M parameters\n"
     ]
    }
   ],
   "source": [
    "model = GPTmuseVAE( vocab_size= len(tokenizer),\n",
    "                    n_embd = n_embd,\n",
    "                    n_head = n_head,\n",
    "                    n_layer = n_layer,\n",
    "                    z_dim = z_dim,\n",
    "                    block_size = block_size,\n",
    "                    dropout = dropout)\n",
    "\n",
    "\n",
    "m = model.to(device)\n",
    "print(sum(p.numel() for p in m.parameters())/1e6, 'M parameters')\n",
    "\n"
   ]
  },
  {
   "cell_type": "code",
   "execution_count": 15,
   "metadata": {},
   "outputs": [
    {
     "data": {
      "text/plain": [
       "<All keys matched successfully>"
      ]
     },
     "execution_count": 15,
     "metadata": {},
     "output_type": "execute_result"
    }
   ],
   "source": [
    "loaded_state_dict = torch.load('checkpoints/checkpoint_6500.pt')\n",
    "model.load_state_dict(loaded_state_dict['model_state_dict'])"
   ]
  },
  {
   "cell_type": "code",
   "execution_count": 16,
   "metadata": {},
   "outputs": [
    {
     "name": "stdout",
     "output_type": "stream",
     "text": [
      "torch.Size([1, 254])\n"
     ]
    }
   ],
   "source": [
    "gen_seed = dataset[2000]['input_ids'].unsqueeze(0)\n",
    "print(gen_seed.shape)"
   ]
  },
  {
   "cell_type": "code",
   "execution_count": 17,
   "metadata": {},
   "outputs": [
    {
     "name": "stdout",
     "output_type": "stream",
     "text": [
      "torch.Size([1, 382])\n",
      "1\n"
     ]
    }
   ],
   "source": [
    "generated_sequence = model.generate(gen_seed[:], max_new_tokens=128)\n",
    "print(generated_sequence[0].shape)\n",
    "out = generated_sequence[0].cpu().numpy().tolist()\n",
    "print(len(out))\n",
    "gen_midi = tokenizer.tokens_to_midi(out)\n",
    "gen_midi.dump('musicGPT.mid')"
   ]
  },
  {
   "cell_type": "code",
   "execution_count": 18,
   "metadata": {},
   "outputs": [],
   "source": [
    "mixer.init()\n",
    "mixer.music.load(\"musicGPT.mid\")\n",
    "mixer.music.play()"
   ]
  },
  {
   "cell_type": "code",
   "execution_count": 19,
   "metadata": {},
   "outputs": [],
   "source": [
    "mixer.music.stop()"
   ]
  },
  {
   "cell_type": "markdown",
   "metadata": {},
   "source": [
    "# Z manipulation"
   ]
  },
  {
   "cell_type": "code",
   "execution_count": 20,
   "metadata": {},
   "outputs": [],
   "source": [
    "_ , small_data = create_subsets(dataset, [0.1])"
   ]
  },
  {
   "cell_type": "code",
   "execution_count": 21,
   "metadata": {},
   "outputs": [
    {
     "data": {
      "text/plain": [
       "torch.Size([2834, 254])"
      ]
     },
     "execution_count": 21,
     "metadata": {},
     "output_type": "execute_result"
    }
   ],
   "source": [
    "z, labels = process_dataset_for_z(small_data)\n",
    "\n",
    "z.shape"
   ]
  },
  {
   "cell_type": "code",
   "execution_count": 22,
   "metadata": {},
   "outputs": [],
   "source": [
    "z = model.sample_latent(z)"
   ]
  },
  {
   "cell_type": "code",
   "execution_count": 24,
   "metadata": {},
   "outputs": [
    {
     "data": {
      "text/plain": [
       "torch.Size([2834, 254, 16])"
      ]
     },
     "execution_count": 24,
     "metadata": {},
     "output_type": "execute_result"
    }
   ],
   "source": [
    "z.shape"
   ]
  },
  {
   "cell_type": "code",
   "execution_count": 25,
   "metadata": {},
   "outputs": [],
   "source": [
    "pointer_dict = calculate_feature_pointers(z,labels)"
   ]
  },
  {
   "cell_type": "code",
   "execution_count": 26,
   "metadata": {},
   "outputs": [
    {
     "data": {
      "text/plain": [
       "dict_keys(['Carcass', 'Bach', 'Dvorak', 'Brahms', 'Megadeth', 'Beethoven', 'Ravel', 'Mozart', 'Black_sabath', 'Judas Priest', 'Slayer', 'Schubert', 'Ozzy Osbourne', 'midi_pop_songs', 'Pantera', 'Cambini', 'Faure', 'Type O Negative', 'Children Of Bodom', 'Sepultura', 'Haydn'])"
      ]
     },
     "execution_count": 26,
     "metadata": {},
     "output_type": "execute_result"
    }
   ],
   "source": [
    "pointer_dict.keys()"
   ]
  },
  {
   "cell_type": "code",
   "execution_count": 86,
   "metadata": {},
   "outputs": [
    {
     "name": "stdout",
     "output_type": "stream",
     "text": [
      "Slayer\n"
     ]
    }
   ],
   "source": [
    "pointer = pointer_dict['Slayer']\n",
    "song_flag = 450\n",
    "input_block_size = block_size\n",
    "magnitude = 1\n",
    "max_new_tokens = 256\n",
    "print(decode_artist_label(dataset[song_flag]['labels'],get_artist_label.artist_id_mapping))"
   ]
  },
  {
   "cell_type": "code",
   "execution_count": 88,
   "metadata": {},
   "outputs": [
    {
     "name": "stdout",
     "output_type": "stream",
     "text": [
      "torch.Size([1, 254])\n"
     ]
    }
   ],
   "source": [
    "gen_seed = dataset[song_flag]['input_ids'].unsqueeze(0)\n",
    "print(gen_seed.shape)\n",
    "generated_sequence = model.generate(gen_seed[:input_block_size] ,max_new_tokens=max_new_tokens, latent_vector = pointer, magnitude = magnitude)\n",
    "out = generated_sequence[0].cpu().numpy().tolist()\n",
    "gen_midi = tokenizer.tokens_to_midi(out)\n",
    "gen_midi.dump('musicGPT_latent.mid')"
   ]
  },
  {
   "cell_type": "code",
   "execution_count": 89,
   "metadata": {},
   "outputs": [],
   "source": [
    "mixer.init()\n",
    "mixer.music.load(\"musicGPT_latent.mid\")\n",
    "mixer.music.play()"
   ]
  },
  {
   "cell_type": "code",
   "execution_count": null,
   "metadata": {},
   "outputs": [],
   "source": [
    "mixer.music.stop()"
   ]
  }
 ],
 "metadata": {
  "kernelspec": {
   "display_name": "muVenv",
   "language": "python",
   "name": "python3"
  },
  "language_info": {
   "codemirror_mode": {
    "name": "ipython",
    "version": 3
   },
   "file_extension": ".py",
   "mimetype": "text/x-python",
   "name": "python",
   "nbconvert_exporter": "python",
   "pygments_lexer": "ipython3",
   "version": "3.11.5"
  }
 },
 "nbformat": 4,
 "nbformat_minor": 2
}
