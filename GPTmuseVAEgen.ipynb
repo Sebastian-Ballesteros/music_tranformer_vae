{
 "cells": [
  {
   "cell_type": "code",
   "execution_count": 1,
   "metadata": {},
   "outputs": [
    {
     "name": "stderr",
     "output_type": "stream",
     "text": [
      "/Users/sebastianballesteros/Desktop/ie_classes/Semester_7/Advanced_AI/group_project_final/GPfinalvenv/lib/python3.11/site-packages/tqdm/auto.py:21: TqdmWarning: IProgress not found. Please update jupyter and ipywidgets. See https://ipywidgets.readthedocs.io/en/stable/user_install.html\n",
      "  from .autonotebook import tqdm as notebook_tqdm\n"
     ]
    },
    {
     "name": "stdout",
     "output_type": "stream",
     "text": [
      "pygame 2.5.2 (SDL 2.28.3, Python 3.11.5)\n",
      "Hello from the pygame community. https://www.pygame.org/contribute.html\n"
     ]
    }
   ],
   "source": [
    "from GPTmuseVAE import GPTmuseVAE\n",
    "\n",
    "import os\n",
    "import torch\n",
    "from GPTmuseVAE import GPTmuseVAE\n",
    "from miditok.pytorch_data import DatasetTok\n",
    "from miditok import REMI\n",
    "from torchtoolkit.data import create_subsets\n",
    "from pathlib import Path\n",
    "from utils import *\n",
    "import pygame\n",
    "from pygame import mixer"
   ]
  },
  {
   "cell_type": "code",
   "execution_count": 2,
   "metadata": {},
   "outputs": [],
   "source": [
    "# Model Hyperparameters\n",
    "n_embd = 32\n",
    "n_head = 4\n",
    "n_layer = 3\n",
    "z_dim = 64\n",
    "block_size = 254 # what is the maximum context length for predictions?\n",
    "dropout = 0.2\n",
    "########################\n",
    "\n",
    "# Hyperparameters\n",
    "device = 'cuda' if torch.cuda.is_available() else 'cpu'\n",
    "# ------------"
   ]
  },
  {
   "cell_type": "code",
   "execution_count": 3,
   "metadata": {},
   "outputs": [
    {
     "name": "stderr",
     "output_type": "stream",
     "text": [
      "Loading data: midi_dataset_tokens_no_bpe/midi_metal/Slayer: 100%|██████████| 511/511 [00:01<00:00, 284.76it/s]\n"
     ]
    }
   ],
   "source": [
    "tokenizer = REMI(params= Path('midi_dataset_tokenizer_bpe.conf'))\n",
    "vocab_size = len(tokenizer)\n",
    "\n",
    "tokens_paths = list(Path('midi_dataset_tokens_no_bpe').glob(\"**/*.json\"))\n",
    "\n",
    "dataset = DatasetTok(\n",
    "    tokens_paths, \n",
    "    max_seq_len=block_size, # to make target and prediction match the song length of block size\n",
    "    min_seq_len=block_size, \n",
    "    one_token_stream= False,\n",
    "    func_to_get_labels = get_artist_label\n",
    ")"
   ]
  },
  {
   "cell_type": "code",
   "execution_count": 4,
   "metadata": {},
   "outputs": [
    {
     "name": "stdout",
     "output_type": "stream",
     "text": [
      "0.187536 M parameters\n"
     ]
    }
   ],
   "source": [
    "model = GPTmuseVAE( vocab_size= len(tokenizer),\n",
    "                    n_embd = n_embd,\n",
    "                    n_head = n_head,\n",
    "                    n_layer = n_layer,\n",
    "                    z_dim = z_dim,\n",
    "                    block_size = block_size,\n",
    "                    dropout = dropout)\n",
    "\n",
    "\n",
    "m = model.to(device)\n",
    "print(sum(p.numel() for p in m.parameters())/1e6, 'M parameters')\n",
    "\n"
   ]
  },
  {
   "cell_type": "code",
   "execution_count": 5,
   "metadata": {},
   "outputs": [
    {
     "data": {
      "text/plain": [
       "<All keys matched successfully>"
      ]
     },
     "execution_count": 5,
     "metadata": {},
     "output_type": "execute_result"
    }
   ],
   "source": [
    "loaded_state_dict = torch.load('checkpoints/checkpoint_3300.pt')\n",
    "model.load_state_dict(loaded_state_dict['model_state_dict'])"
   ]
  },
  {
   "cell_type": "code",
   "execution_count": 6,
   "metadata": {},
   "outputs": [
    {
     "name": "stdout",
     "output_type": "stream",
     "text": [
      "torch.Size([1, 254])\n"
     ]
    }
   ],
   "source": [
    "gen_seed = dataset[500]['input_ids'].unsqueeze(0)\n",
    "print(gen_seed.shape)"
   ]
  },
  {
   "cell_type": "code",
   "execution_count": 7,
   "metadata": {},
   "outputs": [
    {
     "name": "stdout",
     "output_type": "stream",
     "text": [
      "torch.Size([1, 382])\n",
      "1\n"
     ]
    }
   ],
   "source": [
    "generated_sequence = model.generate(gen_seed[:], max_new_tokens=128)\n",
    "print(generated_sequence[0].shape)\n",
    "out = generated_sequence[0].cpu().numpy().tolist()\n",
    "print(len(out))\n",
    "gen_midi = tokenizer.tokens_to_midi(out)\n",
    "gen_midi.dump('musicGPT.mid')"
   ]
  },
  {
   "cell_type": "code",
   "execution_count": 8,
   "metadata": {},
   "outputs": [],
   "source": [
    "mixer.init()\n",
    "mixer.music.load(\"musicGPT.mid\")\n",
    "mixer.music.play()"
   ]
  },
  {
   "cell_type": "code",
   "execution_count": 9,
   "metadata": {},
   "outputs": [],
   "source": [
    "mixer.music.stop()"
   ]
  },
  {
   "cell_type": "markdown",
   "metadata": {},
   "source": [
    "# Z manipulation"
   ]
  },
  {
   "cell_type": "code",
   "execution_count": 10,
   "metadata": {},
   "outputs": [],
   "source": [
    "_ , small_data = create_subsets(dataset, [0.1])"
   ]
  },
  {
   "cell_type": "code",
   "execution_count": 11,
   "metadata": {},
   "outputs": [
    {
     "data": {
      "text/plain": [
       "torch.Size([2834, 254])"
      ]
     },
     "execution_count": 11,
     "metadata": {},
     "output_type": "execute_result"
    }
   ],
   "source": [
    "z, labels = process_dataset_for_z(small_data)\n",
    "\n",
    "z.shape"
   ]
  },
  {
   "cell_type": "code",
   "execution_count": 12,
   "metadata": {},
   "outputs": [],
   "source": [
    "z = model.sample_latent(z)"
   ]
  },
  {
   "cell_type": "code",
   "execution_count": 13,
   "metadata": {},
   "outputs": [
    {
     "data": {
      "text/plain": [
       "torch.Size([2834, 254, 64])"
      ]
     },
     "execution_count": 13,
     "metadata": {},
     "output_type": "execute_result"
    }
   ],
   "source": [
    "z.shape"
   ]
  },
  {
   "cell_type": "code",
   "execution_count": 14,
   "metadata": {},
   "outputs": [],
   "source": [
    "pointer_dict = calculate_feature_pointers(z,labels)"
   ]
  },
  {
   "cell_type": "code",
   "execution_count": 15,
   "metadata": {},
   "outputs": [
    {
     "data": {
      "text/plain": [
       "dict_keys(['Dvorak', 'Type O Negative', 'Megadeth', 'Brahms', 'Beethoven', 'Schubert', 'Bach', 'Pantera', 'Mozart', 'Ozzy Osbourne', 'Carcass', 'Ravel', 'Slayer', 'Black_sabath', 'Faure', 'midi_pop_songs', 'Children Of Bodom', 'Judas Priest', 'Sepultura', 'Cambini', 'Haydn'])"
      ]
     },
     "execution_count": 15,
     "metadata": {},
     "output_type": "execute_result"
    }
   ],
   "source": [
    "pointer_dict.keys()"
   ]
  },
  {
   "cell_type": "code",
   "execution_count": 41,
   "metadata": {},
   "outputs": [
    {
     "name": "stdout",
     "output_type": "stream",
     "text": [
      "Megadeth\n"
     ]
    }
   ],
   "source": [
    "pointer = pointer_dict['midi_pop_songs']\n",
    "song_flag = 10000\n",
    "input_block_size = block_size\n",
    "magnitude = 100\n",
    "pointer = pointer\n",
    "print(decode_artist_label(dataset[song_flag]['labels'],get_artist_label.artist_id_mapping))"
   ]
  },
  {
   "cell_type": "code",
   "execution_count": 42,
   "metadata": {},
   "outputs": [
    {
     "name": "stdout",
     "output_type": "stream",
     "text": [
      "torch.Size([1, 254])\n"
     ]
    }
   ],
   "source": [
    "gen_seed = dataset[song_flag]['input_ids'].unsqueeze(0)\n",
    "print(gen_seed.shape)\n",
    "generated_sequence = model.generate(gen_seed[:input_block_size] ,max_new_tokens=128, latent_vector=pointer, magnitude= magnitude)\n",
    "out = generated_sequence[0].cpu().numpy().tolist()\n",
    "gen_midi = tokenizer.tokens_to_midi(out)\n",
    "gen_midi.dump('musicGPT_latent.mid')\n",
    "mixer.init()\n",
    "mixer.music.load(\"musicGPT_latent.mid\")\n",
    "mixer.music.play()"
   ]
  },
  {
   "cell_type": "code",
   "execution_count": 43,
   "metadata": {},
   "outputs": [],
   "source": [
    "mixer.music.stop()"
   ]
  }
 ],
 "metadata": {
  "kernelspec": {
   "display_name": "muVenv",
   "language": "python",
   "name": "python3"
  },
  "language_info": {
   "codemirror_mode": {
    "name": "ipython",
    "version": 3
   },
   "file_extension": ".py",
   "mimetype": "text/x-python",
   "name": "python",
   "nbconvert_exporter": "python",
   "pygments_lexer": "ipython3",
   "version": "3.11.5"
  }
 },
 "nbformat": 4,
 "nbformat_minor": 2
}
